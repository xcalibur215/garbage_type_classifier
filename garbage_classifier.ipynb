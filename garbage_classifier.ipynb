{
  "nbformat": 4,
  "nbformat_minor": 0,
  "metadata": {
    "colab": {
      "provenance": [],
      "gpuType": "T4",
      "authorship_tag": "ABX9TyM1MbC36rkzqgj/w0knjVnd",
      "include_colab_link": true
    },
    "kernelspec": {
      "name": "python3",
      "display_name": "Python 3"
    },
    "language_info": {
      "name": "python"
    },
    "accelerator": "GPU"
  },
  "cells": [
    {
      "cell_type": "markdown",
      "metadata": {
        "id": "view-in-github",
        "colab_type": "text"
      },
      "source": [
        "<a href=\"https://colab.research.google.com/github/xcalibur215/garbage_type_classifier/blob/main/garbage_classifier.ipynb\" target=\"_parent\"><img src=\"https://colab.research.google.com/assets/colab-badge.svg\" alt=\"Open In Colab\"/></a>"
      ]
    },
    {
      "cell_type": "code",
      "source": [
        "import kagglehub\n",
        "\n",
        "# Download latest version\n",
        "path = kagglehub.dataset_download(\"zlatan599/garbage-dataset-classification\")\n",
        "\n",
        "print(\"Path to dataset files:\", path)"
      ],
      "metadata": {
        "colab": {
          "base_uri": "https://localhost:8080/"
        },
        "id": "Tv7cTD55-PhS",
        "outputId": "f009d813-477c-43fd-8107-178704f481c9"
      },
      "execution_count": 2,
      "outputs": [
        {
          "output_type": "stream",
          "name": "stdout",
          "text": [
            "Downloading from https://www.kaggle.com/api/v1/datasets/download/zlatan599/garbage-dataset-classification?dataset_version_number=5...\n"
          ]
        },
        {
          "output_type": "stream",
          "name": "stderr",
          "text": [
            "100%|██████████| 121M/121M [00:06<00:00, 19.4MB/s]"
          ]
        },
        {
          "output_type": "stream",
          "name": "stdout",
          "text": [
            "Extracting files...\n"
          ]
        },
        {
          "output_type": "stream",
          "name": "stderr",
          "text": [
            "\n"
          ]
        },
        {
          "output_type": "stream",
          "name": "stdout",
          "text": [
            "Path to dataset files: /root/.cache/kagglehub/datasets/zlatan599/garbage-dataset-classification/versions/5\n"
          ]
        }
      ]
    },
    {
      "cell_type": "code",
      "source": [
        "import matplotlib.pyplot as plt\n",
        "from PIL import Image\n",
        "\n",
        "import os\n",
        "from tqdm import tqdm\n",
        "import numpy as np\n",
        "import torch\n",
        "import torch.nn as nn\n",
        "from torchvision.datasets import ImageFolder\n",
        "from torchvision.transforms import v2\n",
        "from torch.utils.data import DataLoader, random_split"
      ],
      "metadata": {
        "id": "kS_ga7WaC76P"
      },
      "execution_count": 3,
      "outputs": []
    },
    {
      "cell_type": "code",
      "source": [
        "full_dataset = ImageFolder(os.path.join(path, 'Garbage_Dataset_Classification/images'), transform=v2.Compose([v2.ToImage(), v2.ToDtype(torch.float32, scale=True)]))"
      ],
      "metadata": {
        "id": "ks4xUg6lDDPy"
      },
      "execution_count": 4,
      "outputs": []
    },
    {
      "cell_type": "code",
      "source": [
        "full_dataset.class_to_idx"
      ],
      "metadata": {
        "id": "1Zl2u1owDW2S",
        "colab": {
          "base_uri": "https://localhost:8080/"
        },
        "outputId": "e67b439a-1f68-42bd-f57e-2ee7f511a5be"
      },
      "execution_count": 5,
      "outputs": [
        {
          "output_type": "execute_result",
          "data": {
            "text/plain": [
              "{'cardboard': 0, 'glass': 1, 'metal': 2, 'paper': 3, 'plastic': 4, 'trash': 5}"
            ]
          },
          "metadata": {},
          "execution_count": 5
        }
      ]
    },
    {
      "cell_type": "code",
      "source": [
        "input_size = (224, 224)\n",
        "\n",
        "train_transform = v2.Compose([\n",
        "    v2.Resize(input_size),\n",
        "    v2.RandomHorizontalFlip(p=0.5),\n",
        "    v2.RandomVerticalFlip(p=0.5),\n",
        "    v2.GaussianNoise(mean=0.1),\n",
        "    v2.RandomRotation(degrees=30),\n",
        "    v2.ToTensor(),\n",
        "    v2.Normalize(mean=[0.485, 0.456, 0.406], std=[0.229, 0.224, 0.225])]\n",
        ")\n",
        "\n",
        "test_transform = v2.Compose([\n",
        "    v2.Resize(input_size),\n",
        "    v2.ToTensor(),\n",
        "    v2.Normalize(mean=[0.485, 0.456, 0.406], std=[0.229, 0.224, 0.225])]\n",
        ")"
      ],
      "metadata": {
        "id": "rpk3MNJMDZQS",
        "colab": {
          "base_uri": "https://localhost:8080/"
        },
        "outputId": "a32834ee-8aec-4b37-c75b-dcec23140f37"
      },
      "execution_count": 6,
      "outputs": [
        {
          "output_type": "stream",
          "name": "stderr",
          "text": [
            "/usr/local/lib/python3.11/dist-packages/torchvision/transforms/v2/_deprecated.py:42: UserWarning: The transform `ToTensor()` is deprecated and will be removed in a future release. Instead, please use `v2.Compose([v2.ToImage(), v2.ToDtype(torch.float32, scale=True)])`.Output is equivalent up to float precision.\n",
            "  warnings.warn(\n"
          ]
        }
      ]
    },
    {
      "cell_type": "code",
      "source": [
        "batch_size = 32\n",
        "\n",
        "train_size = int(0.7 * (len(full_dataset)))\n",
        "test_size = int(len(full_dataset)) - train_size\n",
        "\n",
        "train_dataset, test_dataset = random_split(full_dataset, [train_size, test_size])\n",
        "\n",
        "train_dataset.dataset.transform = train_transform\n",
        "test_dataset.dataset.transform = test_transform\n",
        "\n",
        "\n",
        "train_loader = DataLoader(train_dataset, batch_size=batch_size, shuffle=True)\n",
        "test_loader = DataLoader(test_dataset, batch_size=batch_size, shuffle=False)"
      ],
      "metadata": {
        "id": "Vl89TuPIE8HV"
      },
      "execution_count": 7,
      "outputs": []
    },
    {
      "cell_type": "code",
      "source": [
        "sample_batch = next(iter(train_loader))"
      ],
      "metadata": {
        "id": "TLbEOGAQFkBG"
      },
      "execution_count": 8,
      "outputs": []
    },
    {
      "cell_type": "code",
      "source": [
        "def denormalize(tensor, mean=[0.485, 0.456, 0.406], std=[0.229, 0.224, 0.225]):\n",
        "    for t, m, s in zip(tensor, mean, std):\n",
        "        t.mul_(s).add_(m)\n",
        "    return tensor\n",
        "\n",
        "idx = np.random.randint(0, batch_size)\n",
        "\n",
        "plt.figure(figsize=(6,2))\n",
        "plt.subplot(1, 2, 1)\n",
        "plt.title(f\"Normalized\")\n",
        "normalized_img = sample_batch[0][idx].permute(1, 2, 0).numpy()\n",
        "plt.imshow(normalized_img)\n",
        "\n",
        "plt.subplot(1, 2, 2)\n",
        "plt.title(f\"Original RGB\")\n",
        "original_tensor = denormalize(sample_batch[0][idx].clone())\n",
        "original_rgb_tensor = torch.clamp(original_tensor.permute(1, 2, 0), 0, 1).numpy()\n",
        "plt.imshow(original_rgb_tensor)"
      ],
      "metadata": {
        "id": "a-egFu_sF96e",
        "colab": {
          "base_uri": "https://localhost:8080/",
          "height": 272
        },
        "outputId": "9dfda42e-1ef7-4e1d-d603-55f905039607"
      },
      "execution_count": 9,
      "outputs": [
        {
          "output_type": "stream",
          "name": "stderr",
          "text": [
            "WARNING:matplotlib.image:Clipping input data to the valid range for imshow with RGB data ([0..1] for floats or [0..255] for integers). Got range [-2.117904..2.64].\n"
          ]
        },
        {
          "output_type": "execute_result",
          "data": {
            "text/plain": [
              "<matplotlib.image.AxesImage at 0x7a6a27fe90d0>"
            ]
          },
          "metadata": {},
          "execution_count": 9
        },
        {
          "output_type": "display_data",
          "data": {
            "text/plain": [
              "<Figure size 600x200 with 2 Axes>"
            ],
            "image/png": "[encoded data removed]"
          },
          "metadata": {}
        }
      ]
    },
    {
      "cell_type": "code",
      "source": [
        "model = nn.Sequential(\n",
        "    # Block 1\n",
        "    nn.Conv2d(3, 32, kernel_size=3, padding=1),\n",
        "    nn.BatchNorm2d(32),\n",
        "    nn.ReLU(inplace=True),\n",
        "    nn.Conv2d(32, 32, kernel_size=3, padding=1),\n",
        "    nn.BatchNorm2d(32),\n",
        "    nn.ReLU(inplace=True),\n",
        "    nn.MaxPool2d(2, 2),\n",
        "    nn.Dropout2d(0.25),\n",
        "\n",
        "    # Block 2\n",
        "    nn.Conv2d(32, 64, kernel_size=3, padding=1),\n",
        "    nn.BatchNorm2d(64),\n",
        "    nn.ReLU(inplace=True),\n",
        "    nn.Conv2d(64, 64, kernel_size=3, padding=1),\n",
        "    nn.BatchNorm2d(64),\n",
        "    nn.ReLU(inplace=True),\n",
        "    nn.MaxPool2d(2, 2),\n",
        "    nn.Dropout2d(0.3),\n",
        "\n",
        "    # Block 3\n",
        "    nn.Conv2d(64, 256, kernel_size=3, padding=1),\n",
        "    nn.BatchNorm2d(256),\n",
        "    nn.ReLU(inplace=True),\n",
        "    nn.Conv2d(256, 256, kernel_size=3, padding=1),\n",
        "    nn.BatchNorm2d(256),\n",
        "    nn.ReLU(inplace=True),\n",
        "    nn.MaxPool2d(2, 2),\n",
        "    nn.Dropout2d(0.35),\n",
        "\n",
        "    # Global pooling\n",
        "    nn.AdaptiveAvgPool2d((4, 4)),\n",
        "    nn.Flatten(),\n",
        "\n",
        "    # FC\n",
        "    nn.Linear(256 * 4 * 4, 256),\n",
        "    nn.BatchNorm1d(256),\n",
        "    nn.ReLU(inplace=True),\n",
        "    nn.Dropout(0.5),\n",
        "    nn.Linear(256, 128),\n",
        "    nn.Linear(128, 6)\n",
        ")\n",
        "\n",
        "\n",
        "dummy_input = torch.randn(2, 3, 224, 224) #batchnorm2d\n",
        "print(model(dummy_input).shape)"
      ],
      "metadata": {
        "id": "aZb9JXqhzDZy",
        "colab": {
          "base_uri": "https://localhost:8080/"
        },
        "outputId": "203a401d-7f4f-420d-c7bc-c9231fb911bf"
      },
      "execution_count": 19,
      "outputs": [
        {
          "output_type": "stream",
          "name": "stdout",
          "text": [
            "torch.Size([2, 6])\n"
          ]
        }
      ]
    },
    {
      "cell_type": "code",
      "source": [
        "epochs = 10\n",
        "lr = 0.001\n",
        "optimizer = torch.optim.Adagrad(model.parameters(), lr=lr)\n",
        "loss_fn = torch.nn.CrossEntropyLoss()"
      ],
      "metadata": {
        "id": "sro_khKYN-Co"
      },
      "execution_count": 20,
      "outputs": []
    },
    {
      "cell_type": "code",
      "source": [
        "import torch\n",
        "from tqdm import tqdm\n",
        "\n",
        "# Device setup\n",
        "device = 'cuda' if torch.cuda.is_available() else (\n",
        "    'mps' if torch.backends.mps.is_available() else 'cpu'\n",
        ")\n",
        "\n",
        "model = model.to(device)\n",
        "\n",
        "# Move optimizer's state to the same device as the model\n",
        "for state in optimizer.state.values():\n",
        "    for k, v in state.items():\n",
        "        if isinstance(v, torch.Tensor):\n",
        "            state[k] = v.to(device)\n",
        "\n",
        "\n",
        "for epoch in range(1, epochs + 1):\n",
        "    # --- TRAIN ---\n",
        "    model.train()\n",
        "    train_loss, train_correct, train_total = 0.0, 0, 0\n",
        "\n",
        "    for image, label in tqdm(train_loader, desc=f\"Train Epoch {epoch}/{epochs}\", leave=False):\n",
        "        image, label = image.to(device), label.to(device)\n",
        "\n",
        "        optimizer.zero_grad()\n",
        "        output = model(image)                      # [batch_size, num_classes]\n",
        "        loss = loss_fn(output, label)              # label: [batch_size]\n",
        "        loss.backward()\n",
        "        optimizer.step()\n",
        "\n",
        "        # Accumulate\n",
        "        train_loss += loss.item() * image.size(0)\n",
        "        train_correct += (output.argmax(1) == label).sum().item()\n",
        "        train_total += label.size(0)\n",
        "\n",
        "    avg_train_loss = train_loss / train_total\n",
        "    avg_train_acc = train_correct / train_total\n",
        "\n",
        "    # --- EVAL ---\n",
        "    model.eval()\n",
        "    test_loss, test_correct, test_total = 0.0, 0, 0\n",
        "\n",
        "    with torch.inference_mode():\n",
        "        for image, label in tqdm(test_loader, desc=f\"Eval Epoch {epoch}/{epochs}\", leave=False):\n",
        "            image, label = image.to(device), label.to(device)\n",
        "\n",
        "            output = model(image)\n",
        "            loss = loss_fn(output, label)\n",
        "\n",
        "            test_loss += loss.item() * image.size(0)\n",
        "            test_correct += (output.argmax(1) == label).sum().item()\n",
        "            test_total += label.size(0)\n",
        "\n",
        "    avg_test_loss = test_loss / test_total\n",
        "    avg_test_acc = test_correct / test_total\n",
        "\n",
        "    # --- LOGGING ---\n",
        "    print(\n",
        "        f\"Epoch {epoch}: \"\n",
        "        f\"Train Loss {avg_train_loss:.6f}, Train Acc {avg_train_acc*100:.2f}% | \"\n",
        "        f\"Eval Loss {avg_test_loss:.6f}, Eval Acc {avg_test_acc*100:.2f}%\"\n",
        "    )"
      ],
      "metadata": {
        "colab": {
          "base_uri": "https://localhost:8080/"
        },
        "id": "BVHbhmf0ONHd",
        "outputId": "102e4ee4-250d-4de2-f9bd-4d1def44b683"
      },
      "execution_count": 22,
      "outputs": [
        {
          "output_type": "stream",
          "name": "stderr",
          "text": []
        },
        {
          "output_type": "stream",
          "name": "stdout",
          "text": [
            "Epoch 1: Train Loss 1.461374, Train Acc 43.68% | Eval Loss 1.235760, Eval Acc 53.51%\n"
          ]
        },
        {
          "output_type": "stream",
          "name": "stderr",
          "text": []
        },
        {
          "output_type": "stream",
          "name": "stdout",
          "text": [
            "Epoch 2: Train Loss 1.308238, Train Acc 51.22% | Eval Loss 1.160974, Eval Acc 57.80%\n"
          ]
        },
        {
          "output_type": "stream",
          "name": "stderr",
          "text": []
        },
        {
          "output_type": "stream",
          "name": "stdout",
          "text": [
            "Epoch 3: Train Loss 1.244020, Train Acc 53.23% | Eval Loss 1.093697, Eval Acc 59.77%\n"
          ]
        },
        {
          "output_type": "stream",
          "name": "stderr",
          "text": []
        },
        {
          "output_type": "stream",
          "name": "stdout",
          "text": [
            "Epoch 4: Train Loss 1.207691, Train Acc 55.09% | Eval Loss 1.082290, Eval Acc 60.68%\n"
          ]
        },
        {
          "output_type": "stream",
          "name": "stderr",
          "text": []
        },
        {
          "output_type": "stream",
          "name": "stdout",
          "text": [
            "Epoch 5: Train Loss 1.184496, Train Acc 56.45% | Eval Loss 1.062100, Eval Acc 61.11%\n"
          ]
        },
        {
          "output_type": "stream",
          "name": "stderr",
          "text": []
        },
        {
          "output_type": "stream",
          "name": "stdout",
          "text": [
            "Epoch 6: Train Loss 1.165400, Train Acc 57.16% | Eval Loss 1.042975, Eval Acc 61.45%\n"
          ]
        },
        {
          "output_type": "stream",
          "name": "stderr",
          "text": []
        },
        {
          "output_type": "stream",
          "name": "stdout",
          "text": [
            "Epoch 7: Train Loss 1.144366, Train Acc 57.67% | Eval Loss 1.021264, Eval Acc 63.22%\n"
          ]
        },
        {
          "output_type": "stream",
          "name": "stderr",
          "text": []
        },
        {
          "output_type": "stream",
          "name": "stdout",
          "text": [
            "Epoch 8: Train Loss 1.130859, Train Acc 57.90% | Eval Loss 1.003223, Eval Acc 63.97%\n"
          ]
        },
        {
          "output_type": "stream",
          "name": "stderr",
          "text": []
        },
        {
          "output_type": "stream",
          "name": "stdout",
          "text": [
            "Epoch 9: Train Loss 1.096642, Train Acc 59.96% | Eval Loss 0.995457, Eval Acc 63.56%\n"
          ]
        },
        {
          "output_type": "stream",
          "name": "stderr",
          "text": [
            "                                                                   "
          ]
        },
        {
          "output_type": "stream",
          "name": "stdout",
          "text": [
            "Epoch 10: Train Loss 1.104002, Train Acc 59.46% | Eval Loss 0.999049, Eval Acc 63.65%\n"
          ]
        },
        {
          "output_type": "stream",
          "name": "stderr",
          "text": [
            "\r"
          ]
        }
      ]
    },
    {
      "cell_type": "code",
      "metadata": {
        "colab": {
          "base_uri": "https://localhost:8080/"
        },
        "id": "f765d2f1",
        "outputId": "3cd6be19-7f44-46c1-f76e-bdbf4fb6f1bd"
      },
      "source": [
        "from torchsummary import summary\n",
        "\n",
        "# Display model summary\n",
        "print(summary(model, input_size=(3, 224, 224)))"
      ],
      "execution_count": 23,
      "outputs": [
        {
          "output_type": "stream",
          "name": "stdout",
          "text": [
            "----------------------------------------------------------------\n",
            "        Layer (type)               Output Shape         Param #\n",
            "================================================================\n",
            "            Conv2d-1         [-1, 32, 224, 224]             896\n",
            "       BatchNorm2d-2         [-1, 32, 224, 224]              64\n",
            "              ReLU-3         [-1, 32, 224, 224]               0\n",
            "            Conv2d-4         [-1, 32, 224, 224]           9,248\n",
            "       BatchNorm2d-5         [-1, 32, 224, 224]              64\n",
            "              ReLU-6         [-1, 32, 224, 224]               0\n",
            "         MaxPool2d-7         [-1, 32, 112, 112]               0\n",
            "         Dropout2d-8         [-1, 32, 112, 112]               0\n",
            "            Conv2d-9         [-1, 64, 112, 112]          18,496\n",
            "      BatchNorm2d-10         [-1, 64, 112, 112]             128\n",
            "             ReLU-11         [-1, 64, 112, 112]               0\n",
            "           Conv2d-12         [-1, 64, 112, 112]          36,928\n",
            "      BatchNorm2d-13         [-1, 64, 112, 112]             128\n",
            "             ReLU-14         [-1, 64, 112, 112]               0\n",
            "        MaxPool2d-15           [-1, 64, 56, 56]               0\n",
            "        Dropout2d-16           [-1, 64, 56, 56]               0\n",
            "           Conv2d-17          [-1, 256, 56, 56]         147,712\n",
            "      BatchNorm2d-18          [-1, 256, 56, 56]             512\n",
            "             ReLU-19          [-1, 256, 56, 56]               0\n",
            "           Conv2d-20          [-1, 256, 56, 56]         590,080\n",
            "      BatchNorm2d-21          [-1, 256, 56, 56]             512\n",
            "             ReLU-22          [-1, 256, 56, 56]               0\n",
            "        MaxPool2d-23          [-1, 256, 28, 28]               0\n",
            "        Dropout2d-24          [-1, 256, 28, 28]               0\n",
            "AdaptiveAvgPool2d-25            [-1, 256, 4, 4]               0\n",
            "          Flatten-26                 [-1, 4096]               0\n",
            "           Linear-27                  [-1, 256]       1,048,832\n",
            "      BatchNorm1d-28                  [-1, 256]             512\n",
            "             ReLU-29                  [-1, 256]               0\n",
            "          Dropout-30                  [-1, 256]               0\n",
            "           Linear-31                  [-1, 128]          32,896\n",
            "           Linear-32                    [-1, 6]             774\n",
            "================================================================\n",
            "Total params: 1,887,782\n",
            "Trainable params: 1,887,782\n",
            "Non-trainable params: 0\n",
            "----------------------------------------------------------------\n",
            "Input size (MB): 0.57\n",
            "Forward/backward pass size (MB): 159.32\n",
            "Params size (MB): 7.20\n",
            "Estimated Total Size (MB): 167.10\n",
            "----------------------------------------------------------------\n",
            "None\n"
          ]
        }
      ]
    },
    {
      "cell_type": "code",
      "source": [
        "full_dataset.class_to_idx"
      ],
      "metadata": {
        "colab": {
          "base_uri": "https://localhost:8080/"
        },
        "id": "i2SxJ0upnGm1",
        "outputId": "fdff60a4-bc5d-41ce-d43f-a1c48c1ef4fd"
      },
      "execution_count": 10,
      "outputs": [
        {
          "output_type": "execute_result",
          "data": {
            "text/plain": [
              "{'cardboard': 0, 'glass': 1, 'metal': 2, 'paper': 3, 'plastic': 4, 'trash': 5}"
            ]
          },
          "metadata": {},
          "execution_count": 10
        }
      ]
    },
    {
      "cell_type": "code",
      "source": [],
      "metadata": {
        "id": "U2tiDXOWnIpg"
      },
      "execution_count": null,
      "outputs": []
    }
  ]
}